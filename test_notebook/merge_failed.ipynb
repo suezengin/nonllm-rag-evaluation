{
 "cells": [
  {
   "cell_type": "code",
   "execution_count": 1,
   "id": "988c3533",
   "metadata": {},
   "outputs": [],
   "source": [
    "import pandas as pd\n",
    " \n",
    "inboedel_parsed = pd.read_excel(\"inboedel_responses_parsed.xlsx\")\n",
    "reis_parsed = pd.read_excel(\"reis_responses_parsed.xlsx\")\n",
    "inboedel_gt = pd.read_excel(\"groundtruth_inboedel_enriched.xlsx\")\n",
    "reis_gt = pd.read_excel(\"groundtruth_reis_enriched.xlsx\")"
   ]
  },
  {
   "cell_type": "code",
   "execution_count": 2,
   "id": "136d593c",
   "metadata": {},
   "outputs": [],
   "source": [
    "# === 2. Normalize GT source values for reis ===\n",
    "reis_gt[\"source\"] = reis_gt[\"source\"].str.strip().str.lower()\n",
    "reis_gt[\"source_normalized\"] = reis_gt[\"source\"].replace({\n",
    "    \"a.s.r_vp_dr_2024\": \"asr_2024\",\n",
    "    \"ik_kies_zelf_(dr_2018)\": \"asr_ikz_2018\"\n",
    "})"
   ]
  },
  {
   "cell_type": "code",
   "execution_count": 15,
   "id": "06bfe48b",
   "metadata": {},
   "outputs": [],
   "source": [
    "# === 3. polis_versie simplification (nieuw/oud)\n",
    "def simplify_polis_versie(val):\n",
    "    val = str(val).lower()\n",
    "    if \"nieuw\" in val:\n",
    "        return \"nieuw\"\n",
    "    elif \"oud\" in val:\n",
    "        return \"oud\"\n",
    "    else:\n",
    "        return val\n",
    " \n",
    "def perform_conditional_merge(parsed_df, gt_df, product_label):\n",
    "    aegon_merged = pd.DataFrame()\n",
    "    asr_merged = pd.DataFrame()\n",
    "\n",
    "\n",
    "    # Aegon merge\n",
    "    aegon_gt = gt_df[gt_df[\"source\"].str.contains(\"aegon\", case=False)].copy()\n",
    "    aegon_gt_keys = [\"vraag\", \"product\", \"dekking\", \"polis_versie\"]\n",
    "    aegon_parsed_keys = [\"question\", \"product\", \"dekking\", \"polis_versie\"]\n",
    "\n",
    "    aegon_merged = None\n",
    "    if not aegon_gt.empty:\n",
    "        aegon_gt[\"polis_versie\"] = aegon_gt[\"polis_versie\"].apply(simplify_polis_versie)\n",
    "        parsed_df[\"polis_versie\"] = parsed_df[\"polis_versie\"].apply(simplify_polis_versie)\n",
    " \n",
    "    for col in aegon_parsed_keys:\n",
    "        if col in aegon_gt.columns:\n",
    "            aegon_gt[col]=aegon_gt[col].astype(str).str.strip().str.lower()\n",
    "            for col in aegon_parsed_keys:\n",
    "                if col in parsed_df.columns:\n",
    "                   parsed_df[col] = parsed_df[col].astype(str).str.strip().str.lower()\n",
    "    #for col in aegon_gt_keys:\n",
    "        #aegon_gt[col] = aegon_gt[col].astype(str).str.strip().str.lower()\n",
    " \n",
    "    aegon_merged = pd.merge(parsed_df, aegon_gt, left_on=aegon_parsed_keys, right_on=aegon_gt_keys, how=\"left\")\n",
    " \n",
    "    # ASR merge\n",
    "    asr_gt = gt_df[gt_df[\"source\"].str.contains(\"a.s.r\", case=False)].copy()\n",
    "    asr_gt_keys = [\"vraag\", \"product\", \"dekking\", \"type_klant\"]\n",
    "    asr_parsed_keys = [\"question\", \"product\", \"dekking\", \"type_klant\"]\n",
    " \n",
    "    asr_merged = None\n",
    "    if col in asr_gt.columns:\n",
    "            asr_gt[col]=asr_gt[col].astype(str).str.strip().str.lower()\n",
    "            for col in asr_parsed_keys:\n",
    "                if col in parsed_df.columns:\n",
    "                   parsed_df[col] = parsed_df[col].astype(str).str.strip().str.lower()\n",
    "    #if not asr_gt.epmty: \n",
    "     #for col in asr_gt_keys:\n",
    "        #asr_gt[col] = asr_gt[col].astype(str).str.strip().str.lower()\n",
    "     #for col in asr_parsed_keys:\n",
    "        #parsed_df[col] = parsed_df[col].astype(str).str.strip().str.lower()\n",
    " \n",
    "    asr_merged = pd.merge(parsed_df, asr_gt, left_on=asr_parsed_keys, right_on=asr_gt_keys, how=\"left\")\n",
    "\n",
    "    # Combine and save\n",
    "    combined = pd.concat([aegon_merged, asr_merged], ignore_index=True)\n",
    "    print(f\"✅ {product_label} merged: {len(combined)} rows\")\n",
    "    combined.to_excel(f\"{product_label.lower()}_merged_for_eval.xlsx\", index=False)"
   ]
  },
  {
   "cell_type": "code",
   "execution_count": 16,
   "id": "872d9753",
   "metadata": {},
   "outputs": [
    {
     "name": "stdout",
     "output_type": "stream",
     "text": [
      "✅ inboedel merged: 96 rows\n"
     ]
    },
    {
     "ename": "KeyError",
     "evalue": "'polis_versie'",
     "output_type": "error",
     "traceback": [
      "\u001b[0;31m---------------------------------------------------------------------------\u001b[0m",
      "\u001b[0;31mKeyError\u001b[0m                                  Traceback (most recent call last)",
      "File \u001b[0;32m~/.local/lib/python3.10/site-packages/pandas/core/indexes/base.py:3805\u001b[0m, in \u001b[0;36mIndex.get_loc\u001b[0;34m(self, key)\u001b[0m\n\u001b[1;32m   3804\u001b[0m \u001b[38;5;28;01mtry\u001b[39;00m:\n\u001b[0;32m-> 3805\u001b[0m     \u001b[38;5;28;01mreturn\u001b[39;00m \u001b[38;5;28;43mself\u001b[39;49m\u001b[38;5;241;43m.\u001b[39;49m\u001b[43m_engine\u001b[49m\u001b[38;5;241;43m.\u001b[39;49m\u001b[43mget_loc\u001b[49m\u001b[43m(\u001b[49m\u001b[43mcasted_key\u001b[49m\u001b[43m)\u001b[49m\n\u001b[1;32m   3806\u001b[0m \u001b[38;5;28;01mexcept\u001b[39;00m \u001b[38;5;167;01mKeyError\u001b[39;00m \u001b[38;5;28;01mas\u001b[39;00m err:\n",
      "File \u001b[0;32mindex.pyx:167\u001b[0m, in \u001b[0;36mpandas._libs.index.IndexEngine.get_loc\u001b[0;34m()\u001b[0m\n",
      "File \u001b[0;32mindex.pyx:196\u001b[0m, in \u001b[0;36mpandas._libs.index.IndexEngine.get_loc\u001b[0;34m()\u001b[0m\n",
      "File \u001b[0;32mpandas/_libs/hashtable_class_helper.pxi:7081\u001b[0m, in \u001b[0;36mpandas._libs.hashtable.PyObjectHashTable.get_item\u001b[0;34m()\u001b[0m\n",
      "File \u001b[0;32mpandas/_libs/hashtable_class_helper.pxi:7089\u001b[0m, in \u001b[0;36mpandas._libs.hashtable.PyObjectHashTable.get_item\u001b[0;34m()\u001b[0m\n",
      "\u001b[0;31mKeyError\u001b[0m: 'polis_versie'",
      "\nThe above exception was the direct cause of the following exception:\n",
      "\u001b[0;31mKeyError\u001b[0m                                  Traceback (most recent call last)",
      "Cell \u001b[0;32mIn[16], line 3\u001b[0m\n\u001b[1;32m      1\u001b[0m \u001b[38;5;66;03m# === Run for both products ===\u001b[39;00m\n\u001b[1;32m      2\u001b[0m perform_conditional_merge(inboedel_parsed, inboedel_gt, \u001b[38;5;124m\"\u001b[39m\u001b[38;5;124minboedel\u001b[39m\u001b[38;5;124m\"\u001b[39m)\n\u001b[0;32m----> 3\u001b[0m \u001b[43mperform_conditional_merge\u001b[49m\u001b[43m(\u001b[49m\u001b[43mreis_parsed\u001b[49m\u001b[43m,\u001b[49m\u001b[43m \u001b[49m\u001b[43mreis_gt\u001b[49m\u001b[43m,\u001b[49m\u001b[43m \u001b[49m\u001b[38;5;124;43m\"\u001b[39;49m\u001b[38;5;124;43mreis\u001b[39;49m\u001b[38;5;124;43m\"\u001b[39;49m\u001b[43m)\u001b[49m\n\u001b[1;32m      5\u001b[0m \u001b[38;5;28mprint\u001b[39m(\u001b[38;5;124m\"\u001b[39m\u001b[38;5;124m✅ All merged files saved.\u001b[39m\u001b[38;5;124m\"\u001b[39m)\n",
      "Cell \u001b[0;32mIn[15], line 24\u001b[0m, in \u001b[0;36mperform_conditional_merge\u001b[0;34m(parsed_df, gt_df, product_label)\u001b[0m\n\u001b[1;32m     22\u001b[0m \u001b[38;5;28;01mif\u001b[39;00m \u001b[38;5;129;01mnot\u001b[39;00m aegon_gt\u001b[38;5;241m.\u001b[39mempty:\n\u001b[1;32m     23\u001b[0m     aegon_gt[\u001b[38;5;124m\"\u001b[39m\u001b[38;5;124mpolis_versie\u001b[39m\u001b[38;5;124m\"\u001b[39m] \u001b[38;5;241m=\u001b[39m aegon_gt[\u001b[38;5;124m\"\u001b[39m\u001b[38;5;124mpolis_versie\u001b[39m\u001b[38;5;124m\"\u001b[39m]\u001b[38;5;241m.\u001b[39mapply(simplify_polis_versie)\n\u001b[0;32m---> 24\u001b[0m     parsed_df[\u001b[38;5;124m\"\u001b[39m\u001b[38;5;124mpolis_versie\u001b[39m\u001b[38;5;124m\"\u001b[39m] \u001b[38;5;241m=\u001b[39m \u001b[43mparsed_df\u001b[49m\u001b[43m[\u001b[49m\u001b[38;5;124;43m\"\u001b[39;49m\u001b[38;5;124;43mpolis_versie\u001b[39;49m\u001b[38;5;124;43m\"\u001b[39;49m\u001b[43m]\u001b[49m\u001b[38;5;241m.\u001b[39mapply(simplify_polis_versie)\n\u001b[1;32m     26\u001b[0m \u001b[38;5;28;01mfor\u001b[39;00m col \u001b[38;5;129;01min\u001b[39;00m aegon_parsed_keys:\n\u001b[1;32m     27\u001b[0m     \u001b[38;5;28;01mif\u001b[39;00m col \u001b[38;5;129;01min\u001b[39;00m aegon_gt\u001b[38;5;241m.\u001b[39mcolumns:\n",
      "File \u001b[0;32m~/.local/lib/python3.10/site-packages/pandas/core/frame.py:4102\u001b[0m, in \u001b[0;36mDataFrame.__getitem__\u001b[0;34m(self, key)\u001b[0m\n\u001b[1;32m   4100\u001b[0m \u001b[38;5;28;01mif\u001b[39;00m \u001b[38;5;28mself\u001b[39m\u001b[38;5;241m.\u001b[39mcolumns\u001b[38;5;241m.\u001b[39mnlevels \u001b[38;5;241m>\u001b[39m \u001b[38;5;241m1\u001b[39m:\n\u001b[1;32m   4101\u001b[0m     \u001b[38;5;28;01mreturn\u001b[39;00m \u001b[38;5;28mself\u001b[39m\u001b[38;5;241m.\u001b[39m_getitem_multilevel(key)\n\u001b[0;32m-> 4102\u001b[0m indexer \u001b[38;5;241m=\u001b[39m \u001b[38;5;28;43mself\u001b[39;49m\u001b[38;5;241;43m.\u001b[39;49m\u001b[43mcolumns\u001b[49m\u001b[38;5;241;43m.\u001b[39;49m\u001b[43mget_loc\u001b[49m\u001b[43m(\u001b[49m\u001b[43mkey\u001b[49m\u001b[43m)\u001b[49m\n\u001b[1;32m   4103\u001b[0m \u001b[38;5;28;01mif\u001b[39;00m is_integer(indexer):\n\u001b[1;32m   4104\u001b[0m     indexer \u001b[38;5;241m=\u001b[39m [indexer]\n",
      "File \u001b[0;32m~/.local/lib/python3.10/site-packages/pandas/core/indexes/base.py:3812\u001b[0m, in \u001b[0;36mIndex.get_loc\u001b[0;34m(self, key)\u001b[0m\n\u001b[1;32m   3807\u001b[0m     \u001b[38;5;28;01mif\u001b[39;00m \u001b[38;5;28misinstance\u001b[39m(casted_key, \u001b[38;5;28mslice\u001b[39m) \u001b[38;5;129;01mor\u001b[39;00m (\n\u001b[1;32m   3808\u001b[0m         \u001b[38;5;28misinstance\u001b[39m(casted_key, abc\u001b[38;5;241m.\u001b[39mIterable)\n\u001b[1;32m   3809\u001b[0m         \u001b[38;5;129;01mand\u001b[39;00m \u001b[38;5;28many\u001b[39m(\u001b[38;5;28misinstance\u001b[39m(x, \u001b[38;5;28mslice\u001b[39m) \u001b[38;5;28;01mfor\u001b[39;00m x \u001b[38;5;129;01min\u001b[39;00m casted_key)\n\u001b[1;32m   3810\u001b[0m     ):\n\u001b[1;32m   3811\u001b[0m         \u001b[38;5;28;01mraise\u001b[39;00m InvalidIndexError(key)\n\u001b[0;32m-> 3812\u001b[0m     \u001b[38;5;28;01mraise\u001b[39;00m \u001b[38;5;167;01mKeyError\u001b[39;00m(key) \u001b[38;5;28;01mfrom\u001b[39;00m\u001b[38;5;250m \u001b[39m\u001b[38;5;21;01merr\u001b[39;00m\n\u001b[1;32m   3813\u001b[0m \u001b[38;5;28;01mexcept\u001b[39;00m \u001b[38;5;167;01mTypeError\u001b[39;00m:\n\u001b[1;32m   3814\u001b[0m     \u001b[38;5;66;03m# If we have a listlike key, _check_indexing_error will raise\u001b[39;00m\n\u001b[1;32m   3815\u001b[0m     \u001b[38;5;66;03m#  InvalidIndexError. Otherwise we fall through and re-raise\u001b[39;00m\n\u001b[1;32m   3816\u001b[0m     \u001b[38;5;66;03m#  the TypeError.\u001b[39;00m\n\u001b[1;32m   3817\u001b[0m     \u001b[38;5;28mself\u001b[39m\u001b[38;5;241m.\u001b[39m_check_indexing_error(key)\n",
      "\u001b[0;31mKeyError\u001b[0m: 'polis_versie'"
     ]
    }
   ],
   "source": [
    "# === Run for both products ===\n",
    "perform_conditional_merge(inboedel_parsed, inboedel_gt, \"inboedel\")\n",
    "perform_conditional_merge(reis_parsed, reis_gt, \"reis\")\n",
    " \n",
    "print(\"✅ All merged files saved.\")"
   ]
  }
 ],
 "metadata": {
  "kernelspec": {
   "display_name": "azureml_py310_sdkv2",
   "language": "python",
   "name": "python3"
  },
  "language_info": {
   "codemirror_mode": {
    "name": "ipython",
    "version": 3
   },
   "file_extension": ".py",
   "mimetype": "text/x-python",
   "name": "python",
   "nbconvert_exporter": "python",
   "pygments_lexer": "ipython3",
   "version": "3.10.16"
  }
 },
 "nbformat": 4,
 "nbformat_minor": 5
}
